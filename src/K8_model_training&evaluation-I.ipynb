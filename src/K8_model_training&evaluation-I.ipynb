{
  "nbformat": 4,
  "nbformat_minor": 0,
  "metadata": {
    "colab": {
      "provenance": []
    },
    "kernelspec": {
      "name": "python3",
      "display_name": "Python 3"
    },
    "language_info": {
      "name": "python"
    }
  },
  "cells": [
    {
      "cell_type": "code",
      "execution_count": null,
      "metadata": {
        "colab": {
          "base_uri": "https://localhost:8080/"
        },
        "id": "i3X1R1WelrFY",
        "outputId": "cf66690a-4053-4897-8f90-cef34b5712bf"
      },
      "outputs": [
        {
          "output_type": "stream",
          "name": "stdout",
          "text": [
            "Dataset shape: (359211, 39)\n"
          ]
        }
      ],
      "source": [
        "import pandas as pd\n",
        "import numpy as np\n",
        "import ast\n",
        "from sklearn.preprocessing import StandardScaler, LabelEncoder\n",
        "\n",
        "# Load the dataset\n",
        "file_path = '/content/p.csv'\n",
        "df = pd.read_csv(file_path)\n",
        "print(\"Dataset shape:\", df.shape)"
      ]
    },
    {
      "cell_type": "code",
      "source": [
        "df.head()"
      ],
      "metadata": {
        "colab": {
          "base_uri": "https://localhost:8080/",
          "height": 463
        },
        "id": "Rtk3fpowpjMl",
        "outputId": "711db1e8-1efc-4e80-e7a6-e2a4ac4e8582"
      },
      "execution_count": null,
      "outputs": [
        {
          "output_type": "execute_result",
          "data": {
            "text/plain": [
              "                            time  instance_events_type  collection_id  \\\n",
              "0  1970-01-01 00:00:00.000000000                     2    94591244395   \n",
              "1  1970-01-01 00:41:57.305308183                     2   260697606809   \n",
              "2  1970-01-01 00:03:15.684022913                     6   276227177776   \n",
              "3  1970-01-01 00:00:00.000000000                     2    10507389885   \n",
              "4  1970-01-01 00:30:10.627494172                     3    25911621841   \n",
              "\n",
              "   scheduling_class  collection_type  priority  alloc_collection_id  \\\n",
              "0                 3                1       200                    0   \n",
              "1                 2                0       360         221495397286   \n",
              "2                 2                0       103                    0   \n",
              "3                 3                0       200                    0   \n",
              "4                 2                0         0                    0   \n",
              "\n",
              "   instance_index    machine_id  \\\n",
              "0             144  168846390496   \n",
              "1             335      85515092   \n",
              "2             376  169321752432   \n",
              "3            1977  178294817221   \n",
              "4            3907  231364893292   \n",
              "\n",
              "                                    resource_request  ...  \\\n",
              "0  {'cpus': 0.020660400390625, 'memory': 0.014434...  ...   \n",
              "1  {'cpus': 0.00724029541015625, 'memory': 0.0013...  ...   \n",
              "2  {'cpus': 0.048583984375, 'memory': 0.004165649...  ...   \n",
              "3  {'cpus': 0.0704345703125, 'memory': 0.04162597...  ...   \n",
              "4  {'cpus': 0.00244903564453125, 'memory': 0.0002...  ...   \n",
              "\n",
              "                         tail_cpu_usage_distribution  cluster     event  \\\n",
              "0  [0.00535583 0.00541687 0.00548553 0.00554657 0...      7.0      FAIL   \n",
              "1  [1.23977661e-05 1.23977661e-05 1.23977661e-05 ...      7.0      FAIL   \n",
              "2  [0.02902222 0.02929688 0.0295105  0.0296936  0...      7.0  SCHEDULE   \n",
              "3  [0.05535889 0.05584717 0.05633545 0.05718994 0...      8.0      FAIL   \n",
              "4  [0.00041485 0.00041485 0.00041485 0.00041485 0...      2.0    FINISH   \n",
              "\n",
              "  failed  duration avg_usage_cpu  avg_usage_mem  max_usage_cpu max_usage_mem  \\\n",
              "0    1.0  1.000000      0.008663       0.026445       0.009361      0.026455   \n",
              "1    1.0  0.000000      0.000000       0.000004       0.000000      0.000004   \n",
              "2    0.0  1.000000      0.044975       0.012456       0.047235      0.012684   \n",
              "3    1.0  1.000000      0.088475       0.153762       0.104839      0.154516   \n",
              "4    0.0  0.003344      0.000503       0.000341       0.000326      0.000340   \n",
              "\n",
              "  rand_usage_cpu  \n",
              "0       0.006747  \n",
              "1       0.000000  \n",
              "2       0.041051  \n",
              "3       0.078883  \n",
              "4       0.000530  \n",
              "\n",
              "[5 rows x 39 columns]"
            ],
            "text/html": [
              "\n",
              "  <div id=\"df-f60433c7-c184-4b27-b4ec-7dcaad30e76d\" class=\"colab-df-container\">\n",
              "    <div>\n",
              "<style scoped>\n",
              "    .dataframe tbody tr th:only-of-type {\n",
              "        vertical-align: middle;\n",
              "    }\n",
              "\n",
              "    .dataframe tbody tr th {\n",
              "        vertical-align: top;\n",
              "    }\n",
              "\n",
              "    .dataframe thead th {\n",
              "        text-align: right;\n",
              "    }\n",
              "</style>\n",
              "<table border=\"1\" class=\"dataframe\">\n",
              "  <thead>\n",
              "    <tr style=\"text-align: right;\">\n",
              "      <th></th>\n",
              "      <th>time</th>\n",
              "      <th>instance_events_type</th>\n",
              "      <th>collection_id</th>\n",
              "      <th>scheduling_class</th>\n",
              "      <th>collection_type</th>\n",
              "      <th>priority</th>\n",
              "      <th>alloc_collection_id</th>\n",
              "      <th>instance_index</th>\n",
              "      <th>machine_id</th>\n",
              "      <th>resource_request</th>\n",
              "      <th>...</th>\n",
              "      <th>tail_cpu_usage_distribution</th>\n",
              "      <th>cluster</th>\n",
              "      <th>event</th>\n",
              "      <th>failed</th>\n",
              "      <th>duration</th>\n",
              "      <th>avg_usage_cpu</th>\n",
              "      <th>avg_usage_mem</th>\n",
              "      <th>max_usage_cpu</th>\n",
              "      <th>max_usage_mem</th>\n",
              "      <th>rand_usage_cpu</th>\n",
              "    </tr>\n",
              "  </thead>\n",
              "  <tbody>\n",
              "    <tr>\n",
              "      <th>0</th>\n",
              "      <td>1970-01-01 00:00:00.000000000</td>\n",
              "      <td>2</td>\n",
              "      <td>94591244395</td>\n",
              "      <td>3</td>\n",
              "      <td>1</td>\n",
              "      <td>200</td>\n",
              "      <td>0</td>\n",
              "      <td>144</td>\n",
              "      <td>168846390496</td>\n",
              "      <td>{'cpus': 0.020660400390625, 'memory': 0.014434...</td>\n",
              "      <td>...</td>\n",
              "      <td>[0.00535583 0.00541687 0.00548553 0.00554657 0...</td>\n",
              "      <td>7.0</td>\n",
              "      <td>FAIL</td>\n",
              "      <td>1.0</td>\n",
              "      <td>1.000000</td>\n",
              "      <td>0.008663</td>\n",
              "      <td>0.026445</td>\n",
              "      <td>0.009361</td>\n",
              "      <td>0.026455</td>\n",
              "      <td>0.006747</td>\n",
              "    </tr>\n",
              "    <tr>\n",
              "      <th>1</th>\n",
              "      <td>1970-01-01 00:41:57.305308183</td>\n",
              "      <td>2</td>\n",
              "      <td>260697606809</td>\n",
              "      <td>2</td>\n",
              "      <td>0</td>\n",
              "      <td>360</td>\n",
              "      <td>221495397286</td>\n",
              "      <td>335</td>\n",
              "      <td>85515092</td>\n",
              "      <td>{'cpus': 0.00724029541015625, 'memory': 0.0013...</td>\n",
              "      <td>...</td>\n",
              "      <td>[1.23977661e-05 1.23977661e-05 1.23977661e-05 ...</td>\n",
              "      <td>7.0</td>\n",
              "      <td>FAIL</td>\n",
              "      <td>1.0</td>\n",
              "      <td>0.000000</td>\n",
              "      <td>0.000000</td>\n",
              "      <td>0.000004</td>\n",
              "      <td>0.000000</td>\n",
              "      <td>0.000004</td>\n",
              "      <td>0.000000</td>\n",
              "    </tr>\n",
              "    <tr>\n",
              "      <th>2</th>\n",
              "      <td>1970-01-01 00:03:15.684022913</td>\n",
              "      <td>6</td>\n",
              "      <td>276227177776</td>\n",
              "      <td>2</td>\n",
              "      <td>0</td>\n",
              "      <td>103</td>\n",
              "      <td>0</td>\n",
              "      <td>376</td>\n",
              "      <td>169321752432</td>\n",
              "      <td>{'cpus': 0.048583984375, 'memory': 0.004165649...</td>\n",
              "      <td>...</td>\n",
              "      <td>[0.02902222 0.02929688 0.0295105  0.0296936  0...</td>\n",
              "      <td>7.0</td>\n",
              "      <td>SCHEDULE</td>\n",
              "      <td>0.0</td>\n",
              "      <td>1.000000</td>\n",
              "      <td>0.044975</td>\n",
              "      <td>0.012456</td>\n",
              "      <td>0.047235</td>\n",
              "      <td>0.012684</td>\n",
              "      <td>0.041051</td>\n",
              "    </tr>\n",
              "    <tr>\n",
              "      <th>3</th>\n",
              "      <td>1970-01-01 00:00:00.000000000</td>\n",
              "      <td>2</td>\n",
              "      <td>10507389885</td>\n",
              "      <td>3</td>\n",
              "      <td>0</td>\n",
              "      <td>200</td>\n",
              "      <td>0</td>\n",
              "      <td>1977</td>\n",
              "      <td>178294817221</td>\n",
              "      <td>{'cpus': 0.0704345703125, 'memory': 0.04162597...</td>\n",
              "      <td>...</td>\n",
              "      <td>[0.05535889 0.05584717 0.05633545 0.05718994 0...</td>\n",
              "      <td>8.0</td>\n",
              "      <td>FAIL</td>\n",
              "      <td>1.0</td>\n",
              "      <td>1.000000</td>\n",
              "      <td>0.088475</td>\n",
              "      <td>0.153762</td>\n",
              "      <td>0.104839</td>\n",
              "      <td>0.154516</td>\n",
              "      <td>0.078883</td>\n",
              "    </tr>\n",
              "    <tr>\n",
              "      <th>4</th>\n",
              "      <td>1970-01-01 00:30:10.627494172</td>\n",
              "      <td>3</td>\n",
              "      <td>25911621841</td>\n",
              "      <td>2</td>\n",
              "      <td>0</td>\n",
              "      <td>0</td>\n",
              "      <td>0</td>\n",
              "      <td>3907</td>\n",
              "      <td>231364893292</td>\n",
              "      <td>{'cpus': 0.00244903564453125, 'memory': 0.0002...</td>\n",
              "      <td>...</td>\n",
              "      <td>[0.00041485 0.00041485 0.00041485 0.00041485 0...</td>\n",
              "      <td>2.0</td>\n",
              "      <td>FINISH</td>\n",
              "      <td>0.0</td>\n",
              "      <td>0.003344</td>\n",
              "      <td>0.000503</td>\n",
              "      <td>0.000341</td>\n",
              "      <td>0.000326</td>\n",
              "      <td>0.000340</td>\n",
              "      <td>0.000530</td>\n",
              "    </tr>\n",
              "  </tbody>\n",
              "</table>\n",
              "<p>5 rows × 39 columns</p>\n",
              "</div>\n",
              "    <div class=\"colab-df-buttons\">\n",
              "\n",
              "  <div class=\"colab-df-container\">\n",
              "    <button class=\"colab-df-convert\" onclick=\"convertToInteractive('df-f60433c7-c184-4b27-b4ec-7dcaad30e76d')\"\n",
              "            title=\"Convert this dataframe to an interactive table.\"\n",
              "            style=\"display:none;\">\n",
              "\n",
              "  <svg xmlns=\"http://www.w3.org/2000/svg\" height=\"24px\" viewBox=\"0 -960 960 960\">\n",
              "    <path d=\"M120-120v-720h720v720H120Zm60-500h600v-160H180v160Zm220 220h160v-160H400v160Zm0 220h160v-160H400v160ZM180-400h160v-160H180v160Zm440 0h160v-160H620v160ZM180-180h160v-160H180v160Zm440 0h160v-160H620v160Z\"/>\n",
              "  </svg>\n",
              "    </button>\n",
              "\n",
              "  <style>\n",
              "    .colab-df-container {\n",
              "      display:flex;\n",
              "      gap: 12px;\n",
              "    }\n",
              "\n",
              "    .colab-df-convert {\n",
              "      background-color: #E8F0FE;\n",
              "      border: none;\n",
              "      border-radius: 50%;\n",
              "      cursor: pointer;\n",
              "      display: none;\n",
              "      fill: #1967D2;\n",
              "      height: 32px;\n",
              "      padding: 0 0 0 0;\n",
              "      width: 32px;\n",
              "    }\n",
              "\n",
              "    .colab-df-convert:hover {\n",
              "      background-color: #E2EBFA;\n",
              "      box-shadow: 0px 1px 2px rgba(60, 64, 67, 0.3), 0px 1px 3px 1px rgba(60, 64, 67, 0.15);\n",
              "      fill: #174EA6;\n",
              "    }\n",
              "\n",
              "    .colab-df-buttons div {\n",
              "      margin-bottom: 4px;\n",
              "    }\n",
              "\n",
              "    [theme=dark] .colab-df-convert {\n",
              "      background-color: #3B4455;\n",
              "      fill: #D2E3FC;\n",
              "    }\n",
              "\n",
              "    [theme=dark] .colab-df-convert:hover {\n",
              "      background-color: #434B5C;\n",
              "      box-shadow: 0px 1px 3px 1px rgba(0, 0, 0, 0.15);\n",
              "      filter: drop-shadow(0px 1px 2px rgba(0, 0, 0, 0.3));\n",
              "      fill: #FFFFFF;\n",
              "    }\n",
              "  </style>\n",
              "\n",
              "    <script>\n",
              "      const buttonEl =\n",
              "        document.querySelector('#df-f60433c7-c184-4b27-b4ec-7dcaad30e76d button.colab-df-convert');\n",
              "      buttonEl.style.display =\n",
              "        google.colab.kernel.accessAllowed ? 'block' : 'none';\n",
              "\n",
              "      async function convertToInteractive(key) {\n",
              "        const element = document.querySelector('#df-f60433c7-c184-4b27-b4ec-7dcaad30e76d');\n",
              "        const dataTable =\n",
              "          await google.colab.kernel.invokeFunction('convertToInteractive',\n",
              "                                                    [key], {});\n",
              "        if (!dataTable) return;\n",
              "\n",
              "        const docLinkHtml = 'Like what you see? Visit the ' +\n",
              "          '<a target=\"_blank\" href=https://colab.research.google.com/notebooks/data_table.ipynb>data table notebook</a>'\n",
              "          + ' to learn more about interactive tables.';\n",
              "        element.innerHTML = '';\n",
              "        dataTable['output_type'] = 'display_data';\n",
              "        await google.colab.output.renderOutput(dataTable, element);\n",
              "        const docLink = document.createElement('div');\n",
              "        docLink.innerHTML = docLinkHtml;\n",
              "        element.appendChild(docLink);\n",
              "      }\n",
              "    </script>\n",
              "  </div>\n",
              "\n",
              "\n",
              "<div id=\"df-d53b0e7c-7a51-4e65-9f55-a732e0b913e3\">\n",
              "  <button class=\"colab-df-quickchart\" onclick=\"quickchart('df-d53b0e7c-7a51-4e65-9f55-a732e0b913e3')\"\n",
              "            title=\"Suggest charts\"\n",
              "            style=\"display:none;\">\n",
              "\n",
              "<svg xmlns=\"http://www.w3.org/2000/svg\" height=\"24px\"viewBox=\"0 0 24 24\"\n",
              "     width=\"24px\">\n",
              "    <g>\n",
              "        <path d=\"M19 3H5c-1.1 0-2 .9-2 2v14c0 1.1.9 2 2 2h14c1.1 0 2-.9 2-2V5c0-1.1-.9-2-2-2zM9 17H7v-7h2v7zm4 0h-2V7h2v10zm4 0h-2v-4h2v4z\"/>\n",
              "    </g>\n",
              "</svg>\n",
              "  </button>\n",
              "\n",
              "<style>\n",
              "  .colab-df-quickchart {\n",
              "      --bg-color: #E8F0FE;\n",
              "      --fill-color: #1967D2;\n",
              "      --hover-bg-color: #E2EBFA;\n",
              "      --hover-fill-color: #174EA6;\n",
              "      --disabled-fill-color: #AAA;\n",
              "      --disabled-bg-color: #DDD;\n",
              "  }\n",
              "\n",
              "  [theme=dark] .colab-df-quickchart {\n",
              "      --bg-color: #3B4455;\n",
              "      --fill-color: #D2E3FC;\n",
              "      --hover-bg-color: #434B5C;\n",
              "      --hover-fill-color: #FFFFFF;\n",
              "      --disabled-bg-color: #3B4455;\n",
              "      --disabled-fill-color: #666;\n",
              "  }\n",
              "\n",
              "  .colab-df-quickchart {\n",
              "    background-color: var(--bg-color);\n",
              "    border: none;\n",
              "    border-radius: 50%;\n",
              "    cursor: pointer;\n",
              "    display: none;\n",
              "    fill: var(--fill-color);\n",
              "    height: 32px;\n",
              "    padding: 0;\n",
              "    width: 32px;\n",
              "  }\n",
              "\n",
              "  .colab-df-quickchart:hover {\n",
              "    background-color: var(--hover-bg-color);\n",
              "    box-shadow: 0 1px 2px rgba(60, 64, 67, 0.3), 0 1px 3px 1px rgba(60, 64, 67, 0.15);\n",
              "    fill: var(--button-hover-fill-color);\n",
              "  }\n",
              "\n",
              "  .colab-df-quickchart-complete:disabled,\n",
              "  .colab-df-quickchart-complete:disabled:hover {\n",
              "    background-color: var(--disabled-bg-color);\n",
              "    fill: var(--disabled-fill-color);\n",
              "    box-shadow: none;\n",
              "  }\n",
              "\n",
              "  .colab-df-spinner {\n",
              "    border: 2px solid var(--fill-color);\n",
              "    border-color: transparent;\n",
              "    border-bottom-color: var(--fill-color);\n",
              "    animation:\n",
              "      spin 1s steps(1) infinite;\n",
              "  }\n",
              "\n",
              "  @keyframes spin {\n",
              "    0% {\n",
              "      border-color: transparent;\n",
              "      border-bottom-color: var(--fill-color);\n",
              "      border-left-color: var(--fill-color);\n",
              "    }\n",
              "    20% {\n",
              "      border-color: transparent;\n",
              "      border-left-color: var(--fill-color);\n",
              "      border-top-color: var(--fill-color);\n",
              "    }\n",
              "    30% {\n",
              "      border-color: transparent;\n",
              "      border-left-color: var(--fill-color);\n",
              "      border-top-color: var(--fill-color);\n",
              "      border-right-color: var(--fill-color);\n",
              "    }\n",
              "    40% {\n",
              "      border-color: transparent;\n",
              "      border-right-color: var(--fill-color);\n",
              "      border-top-color: var(--fill-color);\n",
              "    }\n",
              "    60% {\n",
              "      border-color: transparent;\n",
              "      border-right-color: var(--fill-color);\n",
              "    }\n",
              "    80% {\n",
              "      border-color: transparent;\n",
              "      border-right-color: var(--fill-color);\n",
              "      border-bottom-color: var(--fill-color);\n",
              "    }\n",
              "    90% {\n",
              "      border-color: transparent;\n",
              "      border-bottom-color: var(--fill-color);\n",
              "    }\n",
              "  }\n",
              "</style>\n",
              "\n",
              "  <script>\n",
              "    async function quickchart(key) {\n",
              "      const quickchartButtonEl =\n",
              "        document.querySelector('#' + key + ' button');\n",
              "      quickchartButtonEl.disabled = true;  // To prevent multiple clicks.\n",
              "      quickchartButtonEl.classList.add('colab-df-spinner');\n",
              "      try {\n",
              "        const charts = await google.colab.kernel.invokeFunction(\n",
              "            'suggestCharts', [key], {});\n",
              "      } catch (error) {\n",
              "        console.error('Error during call to suggestCharts:', error);\n",
              "      }\n",
              "      quickchartButtonEl.classList.remove('colab-df-spinner');\n",
              "      quickchartButtonEl.classList.add('colab-df-quickchart-complete');\n",
              "    }\n",
              "    (() => {\n",
              "      let quickchartButtonEl =\n",
              "        document.querySelector('#df-d53b0e7c-7a51-4e65-9f55-a732e0b913e3 button');\n",
              "      quickchartButtonEl.style.display =\n",
              "        google.colab.kernel.accessAllowed ? 'block' : 'none';\n",
              "    })();\n",
              "  </script>\n",
              "</div>\n",
              "\n",
              "    </div>\n",
              "  </div>\n"
            ],
            "application/vnd.google.colaboratory.intrinsic+json": {
              "type": "dataframe",
              "variable_name": "df"
            }
          },
          "metadata": {},
          "execution_count": 2
        }
      ]
    },
    {
      "cell_type": "code",
      "source": [
        "df = df.dropna()\n"
      ],
      "metadata": {
        "id": "--xJUxQ2q5h1"
      },
      "execution_count": null,
      "outputs": []
    },
    {
      "cell_type": "code",
      "source": [
        "df.shape"
      ],
      "metadata": {
        "colab": {
          "base_uri": "https://localhost:8080/"
        },
        "id": "TNHRIqFkIh0l",
        "outputId": "ac9003bb-f21c-42e0-b93a-843e3b46b044"
      },
      "execution_count": null,
      "outputs": [
        {
          "output_type": "execute_result",
          "data": {
            "text/plain": [
              "(354867, 39)"
            ]
          },
          "metadata": {},
          "execution_count": 4
        }
      ]
    },
    {
      "cell_type": "code",
      "source": [],
      "metadata": {
        "id": "RlGNYgTxIpVE"
      },
      "execution_count": null,
      "outputs": []
    },
    {
      "cell_type": "code",
      "source": [
        "# Select only numeric columns\n",
        "df_numeric = df.select_dtypes(include=['number'])\n",
        "\n",
        "# Compute correlation with 'failed'\n",
        "correlation = df_numeric.corr()['failed'].sort_values(ascending=False)\n",
        "print(correlation)\n"
      ],
      "metadata": {
        "id": "hXI5Domiq5ar",
        "colab": {
          "base_uri": "https://localhost:8080/"
        },
        "outputId": "38402fd3-52ad-4314-b38d-54cca20826ed"
      },
      "execution_count": null,
      "outputs": [
        {
          "output_type": "stream",
          "name": "stdout",
          "text": [
            "failed                             1.000000\n",
            "scheduling_class                   0.151589\n",
            "duration                           0.143492\n",
            "alloc_collection_id                0.124444\n",
            "priority                           0.091557\n",
            "memory_accesses_per_instruction    0.075148\n",
            "cycles_per_instruction             0.062883\n",
            "cluster                            0.029750\n",
            "max_usage_cpu                      0.007868\n",
            "instance_index                     0.004538\n",
            "rand_usage_cpu                     0.003799\n",
            "avg_usage_cpu                      0.003492\n",
            "sample_rate                       -0.008934\n",
            "machine_id                        -0.008984\n",
            "avg_usage_mem                     -0.023227\n",
            "max_usage_mem                     -0.023368\n",
            "page_cache_memory                 -0.040150\n",
            "assigned_memory                   -0.066307\n",
            "collection_type                   -0.081239\n",
            "collection_id                     -0.084916\n",
            "scheduler                         -0.141618\n",
            "vertical_scaling                  -0.228154\n",
            "instance_events_type              -0.247496\n",
            "collections_events_type           -0.247496\n",
            "Name: failed, dtype: float64\n"
          ]
        }
      ]
    },
    {
      "cell_type": "code",
      "source": [
        "selected_features = [\n",
        "    'scheduling_class', 'duration', 'alloc_collection_id', 'priority',\n",
        "    'memory_accesses_per_instruction', 'cycles_per_instruction',\n",
        "    'vertical_scaling', 'scheduler', 'collection_id', 'collection_type'\n",
        "]\n",
        "\n",
        "X = df[selected_features]\n",
        "y = df['failed']\n"
      ],
      "metadata": {
        "id": "IOfaD2Neq5X-"
      },
      "execution_count": null,
      "outputs": []
    },
    {
      "cell_type": "code",
      "source": [
        "from sklearn.model_selection import train_test_split\n",
        "\n",
        "X_train, X_test, y_train, y_test = train_test_split(\n",
        "    X, y, test_size=0.2, random_state=42, stratify=y\n",
        ")\n",
        "\n",
        "print(f\"Training Set: {X_train.shape}, Test Set: {X_test.shape}\")\n"
      ],
      "metadata": {
        "id": "dVAUdxJPq5VR",
        "colab": {
          "base_uri": "https://localhost:8080/"
        },
        "outputId": "a1c3fe6e-5370-4af3-a3bd-92875f3e9dd5"
      },
      "execution_count": null,
      "outputs": [
        {
          "output_type": "stream",
          "name": "stdout",
          "text": [
            "Training Set: (283893, 10), Test Set: (70974, 10)\n"
          ]
        }
      ]
    },
    {
      "cell_type": "code",
      "source": [
        "from sklearn.preprocessing import StandardScaler\n",
        "\n",
        "scaler = StandardScaler()\n",
        "X_train_scaled = scaler.fit_transform(X_train)\n",
        "X_test_scaled = scaler.transform(X_test)  # Use same scaler for test set\n"
      ],
      "metadata": {
        "id": "Dmx-ZDFpq5SW"
      },
      "execution_count": null,
      "outputs": []
    },
    {
      "cell_type": "code",
      "source": [
        "import pandas as pd\n",
        "import numpy as np\n",
        "\n",
        "# Get feature importance from Random Forest\n",
        "importances = rf.feature_importances_\n",
        "feature_importance = pd.DataFrame({'Feature': X.columns, 'Importance': importances})\n",
        "print(feature_importance.sort_values(by='Importance', ascending=False))\n"
      ],
      "metadata": {
        "colab": {
          "base_uri": "https://localhost:8080/"
        },
        "id": "Mq27dg6mKsCE",
        "outputId": "25e9eb5a-dc3d-4305-d3d0-3998f9add014"
      },
      "execution_count": null,
      "outputs": [
        {
          "output_type": "stream",
          "name": "stdout",
          "text": [
            "                           Feature  Importance\n",
            "8                    collection_id    0.239758\n",
            "4  memory_accesses_per_instruction    0.191182\n",
            "5           cycles_per_instruction    0.184897\n",
            "1                         duration    0.096829\n",
            "6                 vertical_scaling    0.069298\n",
            "3                         priority    0.068692\n",
            "2              alloc_collection_id    0.061525\n",
            "0                 scheduling_class    0.056118\n",
            "7                        scheduler    0.018627\n",
            "9                  collection_type    0.013074\n"
          ]
        }
      ]
    },
    {
      "cell_type": "code",
      "source": [
        "from sklearn.linear_model import LogisticRegression\n",
        "from sklearn.metrics import accuracy_score, classification_report\n",
        "\n",
        "\n",
        "logreg = LogisticRegression(class_weight='balanced', random_state=42)\n",
        "logreg.fit(X_train_scaled, y_train)\n",
        "\n",
        "y_pred_logreg = logreg.predict(X_test_scaled)\n",
        "\n",
        "\n",
        "print(\"📌 Logistic Regression Performance:\")\n",
        "print(classification_report(y_test, y_pred_logreg))\n"
      ],
      "metadata": {
        "id": "nGVdlTvZq5P-",
        "colab": {
          "base_uri": "https://localhost:8080/"
        },
        "outputId": "d97c6ff2-dd29-4c2c-cfc3-2727fb921526"
      },
      "execution_count": null,
      "outputs": [
        {
          "output_type": "stream",
          "name": "stdout",
          "text": [
            "📌 Logistic Regression Performance:\n",
            "              precision    recall  f1-score   support\n",
            "\n",
            "         0.0       0.87      0.63      0.73     54714\n",
            "         1.0       0.35      0.68      0.47     16260\n",
            "\n",
            "    accuracy                           0.64     70974\n",
            "   macro avg       0.61      0.66      0.60     70974\n",
            "weighted avg       0.75      0.64      0.67     70974\n",
            "\n"
          ]
        }
      ]
    },
    {
      "cell_type": "code",
      "source": [
        "from sklearn.ensemble import RandomForestClassifier\n",
        "\n",
        "rf = RandomForestClassifier(n_estimators=100, random_state=42, class_weight='balanced')\n",
        "rf.fit(X_train, y_train)\n",
        "\n",
        "y_pred_rf = rf.predict(X_test)\n",
        "\n",
        "print(\"📌 Random Forest Performance:\")\n",
        "print(classification_report(y_test, y_pred_rf))"
      ],
      "metadata": {
        "id": "nd10R0Mhq5NA",
        "colab": {
          "base_uri": "https://localhost:8080/"
        },
        "outputId": "2a2ad796-daae-4afa-822b-45f3c192f83c"
      },
      "execution_count": null,
      "outputs": [
        {
          "output_type": "stream",
          "name": "stdout",
          "text": [
            "📌 Random Forest Performance:\n",
            "              precision    recall  f1-score   support\n",
            "\n",
            "         0.0       1.00      1.00      1.00     54714\n",
            "         1.0       0.99      1.00      0.99     16260\n",
            "\n",
            "    accuracy                           1.00     70974\n",
            "   macro avg       0.99      1.00      1.00     70974\n",
            "weighted avg       1.00      1.00      1.00     70974\n",
            "\n"
          ]
        }
      ]
    },
    {
      "cell_type": "code",
      "source": [
        "from xgboost import XGBClassifier\n",
        "\n",
        "xgb = XGBClassifier(use_label_encoder=False, eval_metric='logloss', random_state=42)\n",
        "xgb.fit(X_train, y_train)\n",
        "\n",
        "y_pred_xgb = xgb.predict(X_test)\n",
        "\n",
        "print(\"📌 XGBoost Performance:\")\n",
        "print(classification_report(y_test, y_pred_xgb))"
      ],
      "metadata": {
        "colab": {
          "base_uri": "https://localhost:8080/"
        },
        "id": "FTSDLg9tKo7q",
        "outputId": "658c6c38-fb7a-4c32-b777-05f0a8567eec"
      },
      "execution_count": null,
      "outputs": [
        {
          "output_type": "stream",
          "name": "stderr",
          "text": [
            "/usr/local/lib/python3.11/dist-packages/xgboost/core.py:158: UserWarning: [10:37:24] WARNING: /workspace/src/learner.cc:740: \n",
            "Parameters: { \"use_label_encoder\" } are not used.\n",
            "\n",
            "  warnings.warn(smsg, UserWarning)\n"
          ]
        },
        {
          "output_type": "stream",
          "name": "stdout",
          "text": [
            "📌 XGBoost Performance:\n",
            "              precision    recall  f1-score   support\n",
            "\n",
            "         0.0       0.99      0.99      0.99     54714\n",
            "         1.0       0.98      0.97      0.97     16260\n",
            "\n",
            "    accuracy                           0.99     70974\n",
            "   macro avg       0.98      0.98      0.98     70974\n",
            "weighted avg       0.99      0.99      0.99     70974\n",
            "\n"
          ]
        }
      ]
    },
    {
      "cell_type": "code",
      "source": [
        "from sklearn.ensemble import GradientBoostingClassifier\n",
        "\n",
        "gbm = GradientBoostingClassifier(n_estimators=100, learning_rate=0.1, random_state=42)\n",
        "gbm.fit(X_train, y_train)\n",
        "\n",
        "y_pred_gbm = gbm.predict(X_test)\n",
        "print(\"📌 Gradient Boosting Performance:\")\n",
        "print(classification_report(y_test, y_pred_gbm))\n"
      ],
      "metadata": {
        "colab": {
          "base_uri": "https://localhost:8080/"
        },
        "id": "pq92mMhKT2q-",
        "outputId": "55da998e-8b1d-431e-e57d-45861ae86fc8"
      },
      "execution_count": null,
      "outputs": [
        {
          "output_type": "stream",
          "name": "stdout",
          "text": [
            "📌 Gradient Boosting Performance:\n",
            "              precision    recall  f1-score   support\n",
            "\n",
            "         0.0       0.88      0.96      0.92     54714\n",
            "         1.0       0.82      0.56      0.67     16260\n",
            "\n",
            "    accuracy                           0.87     70974\n",
            "   macro avg       0.85      0.76      0.79     70974\n",
            "weighted avg       0.87      0.87      0.86     70974\n",
            "\n"
          ]
        }
      ]
    },
    {
      "cell_type": "code",
      "source": [
        "from lightgbm import LGBMClassifier\n",
        "\n",
        "lgbm = LGBMClassifier(n_estimators=100, learning_rate=0.1, random_state=42)\n",
        "lgbm.fit(X_train, y_train)\n",
        "\n",
        "y_pred_lgbm = lgbm.predict(X_test)\n",
        "print(\"📌 LightGBM Performance:\")\n",
        "print(classification_report(y_test, y_pred_lgbm))\n"
      ],
      "metadata": {
        "colab": {
          "base_uri": "https://localhost:8080/"
        },
        "id": "TKIAfzMHT2oo",
        "outputId": "8c5b5375-bb54-4314-9442-05f3e15cfdd9"
      },
      "execution_count": null,
      "outputs": [
        {
          "output_type": "stream",
          "name": "stdout",
          "text": [
            "[LightGBM] [Info] Number of positive: 65039, number of negative: 218854\n",
            "[LightGBM] [Info] Auto-choosing row-wise multi-threading, the overhead of testing was 0.008975 seconds.\n",
            "You can set `force_row_wise=true` to remove the overhead.\n",
            "And if memory is not enough, you can set `force_col_wise=true`.\n",
            "[LightGBM] [Info] Total Bins 1190\n",
            "[LightGBM] [Info] Number of data points in the train set: 283893, number of used features: 10\n",
            "[LightGBM] [Info] [binary:BoostFromScore]: pavg=0.229097 -> initscore=-1.213418\n",
            "[LightGBM] [Info] Start training from score -1.213418\n",
            "📌 LightGBM Performance:\n",
            "              precision    recall  f1-score   support\n",
            "\n",
            "         0.0       0.97      0.99      0.98     54714\n",
            "         1.0       0.95      0.91      0.93     16260\n",
            "\n",
            "    accuracy                           0.97     70974\n",
            "   macro avg       0.96      0.95      0.96     70974\n",
            "weighted avg       0.97      0.97      0.97     70974\n",
            "\n"
          ]
        }
      ]
    },
    {
      "cell_type": "code",
      "source": [
        "from sklearn.svm import SVC\n",
        "\n",
        "svm = SVC(kernel='rbf', probability=True, random_state=42)\n",
        "svm.fit(X_train_scaled, y_train)\n",
        "\n",
        "y_pred_svm = svm.predict(X_test_scaled)\n",
        "print(\"📌 SVM Performance:\")\n",
        "print(classification_report(y_test, y_pred_svm))\n"
      ],
      "metadata": {
        "id": "aWpCm7vMT2mR"
      },
      "execution_count": null,
      "outputs": []
    },
    {
      "cell_type": "code",
      "source": [
        "from sklearn.neural_network import MLPClassifier\n",
        "\n",
        "mlp = MLPClassifier(hidden_layer_sizes=(64, 32), activation='relu', max_iter=500, random_state=42)\n",
        "mlp.fit(X_train_scaled, y_train)\n",
        "\n",
        "y_pred_mlp = mlp.predict(X_test_scaled)\n",
        "print(\"📌 MLP Performance:\")\n",
        "print(classification_report(y_test, y_pred_mlp))\n"
      ],
      "metadata": {
        "colab": {
          "base_uri": "https://localhost:8080/"
        },
        "id": "Tx0DulBHT2j3",
        "outputId": "ec4a628e-1393-48bb-b0e9-9c1b149bd236"
      },
      "execution_count": null,
      "outputs": [
        {
          "output_type": "stream",
          "name": "stdout",
          "text": [
            "📌 MLP Performance:\n",
            "              precision    recall  f1-score   support\n",
            "\n",
            "         0.0       0.99      0.98      0.98     54714\n",
            "         1.0       0.94      0.95      0.95     16260\n",
            "\n",
            "    accuracy                           0.98     70974\n",
            "   macro avg       0.96      0.97      0.97     70974\n",
            "weighted avg       0.98      0.98      0.98     70974\n",
            "\n"
          ]
        }
      ]
    },
    {
      "cell_type": "code",
      "source": [
        "import numpy as np\n",
        "X_train_lstm = X_train.reshape((X_train.shape[0], X_train.shape[1], 1))\n",
        "X_test_lstm = X_test.reshape((X_test.shape[0], X_test.shape[1], 1))\n",
        "\n",
        "# Define LSTM Model\n",
        "model_lstm = keras.Sequential([\n",
        "    keras.layers.LSTM(64, activation='relu', return_sequences=True, input_shape=(X_train.shape[1], 1)),\n",
        "    keras.layers.LSTM(32, activation='relu'),\n",
        "    keras.layers.Dense(1, activation='sigmoid')\n",
        "])\n",
        "\n",
        "# Compile Model\n",
        "model_lstm.compile(optimizer='adam', loss='binary_crossentropy', metrics=['accuracy'])\n",
        "\n",
        "# Train Model\n",
        "history_lstm = model_lstm.fit(X_train_lstm, y_train, epochs=20, batch_size=32, validation_data=(X_test_lstm, y_test))\n",
        "\n",
        "# Evaluate Model\n",
        "test_loss_lstm, test_acc_lstm = model_lstm.evaluate(X_test_lstm, y_test)\n",
        "print(\"LSTM Test Accuracy:\", test_acc_lstm)\n"
      ],
      "metadata": {
        "id": "7RumDpjwlq-0"
      },
      "execution_count": null,
      "outputs": []
    },
    {
      "cell_type": "code",
      "source": [
        "import matplotlib.pyplot as plt\n",
        "import numpy as np\n",
        "from sklearn.metrics import accuracy_score, precision_score, recall_score, f1_score\n",
        "\n",
        "# Dictionary to store model performance\n",
        "model_performance = {}\n",
        "\n",
        "# List of models\n",
        "models = {\n",
        "    \"Logistic Regression\": logreg,\n",
        "    \"Random Forest\": rf,\n",
        "    \"XGBoost\": xgb,\n",
        "    \"Gradient Boosting\": gbm,\n",
        "    \"LightGBM\": lgbm,\n",
        "    #\"SVM\": svm,\n",
        "    \"MLP (Neural Network)\": mlp\n",
        "}\n",
        "\n",
        "# Calculate evaluation metrics for each model\n",
        "for name, model in models.items():\n",
        "    y_pred = model.predict(X_test)\n",
        "    model_performance[name] = {\n",
        "        \"Accuracy\": accuracy_score(y_test, y_pred),\n",
        "        \"Precision\": precision_score(y_test, y_pred, average='weighted'),\n",
        "        \"Recall\": recall_score(y_test, y_pred, average='weighted'),\n",
        "        \"F1-score\": f1_score(y_test, y_pred, average='weighted')\n",
        "    }\n",
        "\n",
        "# Convert dictionary to a format for plotting\n",
        "metrics = [\"Accuracy\", \"Precision\", \"Recall\", \"F1-score\"]\n",
        "model_names = list(model_performance.keys())\n",
        "\n",
        "# Prepare data for plotting\n",
        "values = np.array([[model_performance[model][metric] for model in model_names] for metric in metrics])\n",
        "\n",
        "# Plot grouped bar chart\n",
        "bar_width = 0.2\n",
        "x = np.arange(len(model_names))\n",
        "\n",
        "plt.figure(figsize=(12, 6))\n",
        "\n",
        "# Plot bars for each metric\n",
        "for i, metric in enumerate(metrics):\n",
        "    plt.bar(x + i * bar_width, values[i], width=bar_width, label=metric)\n",
        "\n",
        "# Labeling\n",
        "plt.xlabel(\"Machine Learning Models\")\n",
        "plt.ylabel(\"Score\")\n",
        "plt.title(\"Comparison of Model Performance\")\n",
        "plt.xticks(x + bar_width * 1.5, model_names, rotation=45)\n",
        "plt.ylim(0, 1.5)\n",
        "plt.legend()\n",
        "plt.grid(axis='y', linestyle='--', alpha=0.7)\n",
        "\n",
        "# Show values on bars\n",
        "for i in range(len(metrics)):\n",
        "    for j in range(len(model_names)):\n",
        "        plt.text(x[j] + i * bar_width, values[i][j] + 0.02, f\"{values[i][j]:.2f}\", ha='center', fontsize=10)\n",
        "\n",
        "plt.show()\n"
      ],
      "metadata": {
        "colab": {
          "base_uri": "https://localhost:8080/",
          "height": 736
        },
        "id": "cA62g5ngT2hJ",
        "outputId": "874fdb50-fe4e-4beb-a808-66a6d78efd90"
      },
      "execution_count": null,
      "outputs": [
        {
          "output_type": "stream",
          "name": "stderr",
          "text": [
            "/usr/local/lib/python3.11/dist-packages/sklearn/utils/validation.py:2732: UserWarning: X has feature names, but LogisticRegression was fitted without feature names\n",
            "  warnings.warn(\n",
            "/usr/local/lib/python3.11/dist-packages/sklearn/utils/validation.py:2732: UserWarning: X has feature names, but MLPClassifier was fitted without feature names\n",
            "  warnings.warn(\n"
          ]
        },
        {
          "output_type": "display_data",
          "data": {
            "text/plain": [
              "<Figure size 1200x600 with 1 Axes>"
            ],
            "image/png": "[encoded data removed]"
          },
          "metadata": {}
        }
      ]
    },
    {
      "cell_type": "markdown",
      "source": [
        "\n",
        "\n",
        "---\n",
        "\n",
        "\n",
        "\n",
        "---\n",
        "\n"
      ],
      "metadata": {
        "id": "v8Tw_sXyQTF2"
      }
    }
  ]
}